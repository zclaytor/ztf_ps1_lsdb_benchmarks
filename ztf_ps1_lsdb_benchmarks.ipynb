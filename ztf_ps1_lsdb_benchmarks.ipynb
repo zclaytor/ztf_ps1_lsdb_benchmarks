{
 "cells": [
  {
   "cell_type": "code",
   "execution_count": null,
   "id": "c74937f2-4d86-4b69-b7d0-4c32c31602ad",
   "metadata": {},
   "outputs": [],
   "source": [
    "from astropy.coordinates import SkyCoord\n",
    "from astropy import units as u\n",
    "from lsdb.core.search import ConeSearch\n",
    "\n",
    "import lsdb\n",
    "from dask.distributed import Client, LocalCluster\n",
    "\n",
    "cluster = LocalCluster()\n",
    "cluster.adapt(minimum=1, maximum=16)\n",
    "client = Client(cluster)\n",
    "client"
   ]
  },
  {
   "cell_type": "code",
   "execution_count": null,
   "id": "44a96a5e-68a7-4e71-96af-20a2757b9af0",
   "metadata": {},
   "outputs": [],
   "source": [
    "ps1_path = \"s3://stpubdata/panstarrs/ps1/public/hipscat/otmo\"\n",
    "ps1 = lsdb.read_hipscat(ps1_path, storage_options={'anon': True},\n",
    "    columns=[\"objName\",\"objID\",\"rMeanApMag\",\"raMean\",\"decMean\"])\n",
    "#ps1.head()"
   ]
  },
  {
   "cell_type": "code",
   "execution_count": null,
   "id": "49b18cbe-9172-41f9-9b86-2614a4d8c6af",
   "metadata": {},
   "outputs": [],
   "source": [
    "c = SkyCoord('19:22:40  +44:30:00', unit=(u.hourangle, u.deg))\n",
    "cone_ra, cone_dec = c.ra.value, c.dec.value\n",
    "radius_arcsec = 11500 # 340; 1060; 3350; 11500; 34000 arcsec\n",
    "cone_filter = ConeSearch(cone_ra, cone_dec, radius_arcsec)\n",
    "\n",
    "ztf_path = (\"s3://irsa-mast-tike-spitzer-data/data/\"\n",
    "            \"ZTF/dr20/objects/hipscat/ztf-dr20-objects-hipscat\")\n",
    "ztf_piece = lsdb.read_hipscat(ztf_path, search_filter=cone_filter)\n",
    "#ztf_piece.compute()"
   ]
  },
  {
   "cell_type": "code",
   "execution_count": null,
   "id": "d51bd56e-8011-4011-bda1-60f04a2e6b72",
   "metadata": {},
   "outputs": [],
   "source": [
    "ztf_x_ps1 = ztf_piece.crossmatch(ps1, radius_arcsec=1, n_neighbors=1, suffixes=(\"_ztf\", \"_ps1\"))"
   ]
  },
  {
   "cell_type": "code",
   "execution_count": null,
   "id": "b4d2b0ad-21ae-4067-9253-03b66e95265a",
   "metadata": {},
   "outputs": [],
   "source": [
    "%%time\n",
    "xmatch = ztf_x_ps1.compute()"
   ]
  },
  {
   "cell_type": "code",
   "execution_count": null,
   "id": "9d0d8b6c-8e40-43d6-998e-6385a0767b30",
   "metadata": {},
   "outputs": [],
   "source": [
    "xmatch"
   ]
  }
 ],
 "metadata": {
  "kernelspec": {
   "display_name": "base *",
   "language": "python",
   "name": "conda-base-py"
  },
  "language_info": {
   "codemirror_mode": {
    "name": "ipython",
    "version": 3
   },
   "file_extension": ".py",
   "mimetype": "text/x-python",
   "name": "python",
   "nbconvert_exporter": "python",
   "pygments_lexer": "ipython3",
   "version": "3.11.6"
  }
 },
 "nbformat": 4,
 "nbformat_minor": 5
}
