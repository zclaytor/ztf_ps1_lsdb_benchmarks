{
 "cells": [
  {
   "cell_type": "markdown",
   "id": "39a5f41a-fb9b-422f-a242-77c3a51fabf2",
   "metadata": {},
   "source": [
    "# Cross-Matching ZTF and Pan-STARRS using LSDB"
   ]
  },
  {
   "cell_type": "markdown",
   "id": "c18569be-ef81-41ee-b5d2-4c21af0e96a7",
   "metadata": {},
   "source": [
    "[LSDB](https://lsdb.io) is a useful package for performing large cross-matches between source catalogs. It's built to run across multiple nodes with Dask parallelization, but even without parallelization it is high-performance. Here we will benchmark the performance of LSDB on the NASA Fornax platform with and without Dask.\n",
    "\n",
    "We will start small, trying to cross-match 10,000 sources from ZTF with Pan-STARRS. We will then scale up by factors of roughly 10 until either (a) the platform can no longer handle the load, or (b) we do the full cross-match.\n",
    "\n",
    "For each level, we want to know the performance with (1) no Dask, (2) minimal Dask - like 2 workers, (3) bigger Dask - as many workers as we can use, and (4) auto-scaling Dask."
   ]
  },
  {
   "cell_type": "markdown",
   "id": "949527e8-8908-464e-94a1-aa148f90128c",
   "metadata": {},
   "source": [
    "## Preconfiguring the Run\n",
    "First choose the number of rows we want to cross-match and our `dask` environment. Note that you can also configure `dask` using the `daskhub` options on Fornax. If you go this route, leave `dask_workers = 0` below."
   ]
  },
  {
   "cell_type": "code",
   "execution_count": null,
   "id": "f079346f-926a-484d-8bdf-737fe5f52b07",
   "metadata": {},
   "outputs": [],
   "source": [
    "# The left table will have about this many rows. The cross-matched product will have fewer.\n",
    "Nrows = 10_000 \n",
    "\n",
    "# dask_workers can be 0 (no dask), 1-Ncores, or \"scale\" for auto-scaling\n",
    "dask_workers = 0"
   ]
  },
  {
   "cell_type": "markdown",
   "id": "ef23d6ee-ccf2-4881-8bd7-e60eecc719a6",
   "metadata": {},
   "source": [
    "## Imports\n",
    "We require the use of `astropy` for coordinates and units, and `lsdb` to read the catalogs and perform the cross-match. Optionally, we will set up `dask` parallelization."
   ]
  },
  {
   "cell_type": "code",
   "execution_count": null,
   "id": "c74937f2-4d86-4b69-b7d0-4c32c31602ad",
   "metadata": {},
   "outputs": [],
   "source": [
    "from astropy.coordinates import SkyCoord\n",
    "from astropy import units as u\n",
    "from lsdb.core.search import ConeSearch\n",
    "\n",
    "import lsdb\n",
    "\n",
    "# Set up dask cluster\n",
    "if dask_workers != 0:\n",
    "    from dask.distributed import Client, LocalCluster\n",
    "    cluster = LocalCluster()\n",
    "\n",
    "    if dask_workers == \"scale\":\n",
    "        import os\n",
    "        cluster.adapt(minimum_cores=1, maximum_cores=os.cpu_count())\n",
    "    else:\n",
    "        cluster.scale(dask_workers)\n",
    "        \n",
    "    client = Client(cluster)\n",
    "    client\n",
    "\n",
    "# Select the search radius to give us the right number of rows\n",
    "radius = { # Nrows: radius_arcseconds\n",
    "           10_000:     331,\n",
    "          100_000:    1047,\n",
    "        1_000_000:    3318,\n",
    "       10_000_000:  11_180,\n",
    "      100_000_000:  33_743,\n",
    "    1_000_000_000: 102_000, # runs out of memory on Large Fornax server\n",
    "    # larger than that is effectively a full cross-match\n",
    "}"
   ]
  },
  {
   "cell_type": "markdown",
   "id": "97f51f26-8f8c-4c93-8f4a-15a3bcca57a1",
   "metadata": {},
   "source": [
    "## Read in catalogs and downselect ZTF to Nrows"
   ]
  },
  {
   "cell_type": "code",
   "execution_count": null,
   "id": "49b18cbe-9172-41f9-9b86-2614a4d8c6af",
   "metadata": {
    "scrolled": true
   },
   "outputs": [],
   "source": [
    "# Define sky area. Here we're using the Kepler field.\n",
    "c = SkyCoord('19:22:40  +44:30:00', unit=(u.hourangle, u.deg))\n",
    "cone_ra, cone_dec = c.ra.value, c.dec.value\n",
    "radius_arcsec = radius[Nrows]\n",
    "cone_filter = ConeSearch(cone_ra, cone_dec, radius_arcsec)\n",
    "\n",
    "# Read ZTF DR20\n",
    "ztf_path = (\"s3://irsa-mast-tike-spitzer-data/data/ZTF/dr20/objects/hipscat/ztf-dr20-objects-hipscat\")\n",
    "ztf_piece = lsdb.read_hipscat(ztf_path, columns=[\"oid\", \"ra\", \"dec\"], search_filter=cone_filter)\n",
    "\n",
    "# Read Pan-STARRS DR2\n",
    "ps1_path = \"s3://stpubdata/panstarrs/ps1/public/hipscat/otmo\"\n",
    "ps1 = lsdb.read_hipscat(ps1_path, storage_options={'anon': True},\n",
    "    columns=[\"objName\",\"objID\",\"raMean\",\"decMean\"])"
   ]
  },
  {
   "cell_type": "markdown",
   "id": "eeb021fc-378c-4a5d-89bc-54acca2230ef",
   "metadata": {},
   "source": [
    "## Initialize crossmatch and compute, measuring the time elapsed."
   ]
  },
  {
   "cell_type": "code",
   "execution_count": null,
   "id": "d51bd56e-8011-4011-bda1-60f04a2e6b72",
   "metadata": {},
   "outputs": [],
   "source": [
    "# Setting up the cross-match actually takes very little time\n",
    "ztf_x_ps1 = ztf_piece.crossmatch(ps1, radius_arcsec=1, n_neighbors=1, suffixes=(\"_ztf\", \"_ps1\"))"
   ]
  },
  {
   "cell_type": "code",
   "execution_count": null,
   "id": "6a1ac550-0912-4d37-b4c9-2e5fe192ead3",
   "metadata": {},
   "outputs": [],
   "source": [
    "# Executing the cross-match does take time\n",
    "%%time\n",
    "xmatch = ztf_x_ps1.compute()"
   ]
  },
  {
   "cell_type": "code",
   "execution_count": null,
   "id": "9d0d8b6c-8e40-43d6-998e-6385a0767b30",
   "metadata": {},
   "outputs": [],
   "source": [
    "# Check the length of the resulting table\n",
    "len(xmatch)"
   ]
  },
  {
   "cell_type": "code",
   "execution_count": null,
   "id": "b4d2b0ad-21ae-4067-9253-03b66e95265a",
   "metadata": {},
   "outputs": [],
   "source": [
    "# For small enough cross-matches, it's useful to compute several times and take the average time\n",
    "# ONLY USE FOR Nrows <= 1_000_000 or so \n",
    "%%timeit\n",
    "xmatch = ztf_x_ps1.compute()"
   ]
  },
  {
   "cell_type": "markdown",
   "id": "72841776-7782-4481-a448-c8d5bca665c7",
   "metadata": {},
   "source": [
    "## Record benchmarks"
   ]
  },
  {
   "cell_type": "markdown",
   "id": "d77c8487-7ee3-43f0-8d0e-31255cf2b5e0",
   "metadata": {},
   "source": [
    "Benchmarks on Fornax Large instance using no dask (t1) and autoscaling dask with 2-16 workers (t2).\n",
    "\"x\" indicates out-of-memory behavior.\n",
    "\n",
    "| N rows | t1 (s) | t2 (s) |\n",
    "| ------ | ------ | ------ |\n",
    "| 1e4    | 2.61   | 8.09   |\n",
    "| 1e5    | 3.55   | 4.2    |\n",
    "| 1e6    | 6.77   | 9.95   |\n",
    "| 1e7    | 41.5   | x      |\n",
    "| 1e8    | x      | x      |"
   ]
  },
  {
   "cell_type": "markdown",
   "id": "3c3d82f3-c255-422c-ae35-67eda05b15d3",
   "metadata": {},
   "source": [
    "Benchmarks on Fornax XLarge instance using no dask (t1) and autoscaling dask with 2-16 workers (t2).\n",
    "\"x\" indicates out-of-memory behavior.\n",
    "\n",
    "| N rows | t1 (s) | t2 (s) |\n",
    "| ------ | ------ | ------ |\n",
    "| 1e4    |  1.6   |    |\n",
    "| 1e5    |  1.85  |    |\n",
    "| 1e6    |  3.53  |    |\n",
    "| 1e7    |  18.4  |    |\n",
    "| 1e8    |  364   |    |"
   ]
  }
 ],
 "metadata": {
  "kernelspec": {
   "display_name": "base *",
   "language": "python",
   "name": "conda-base-py"
  },
  "language_info": {
   "codemirror_mode": {
    "name": "ipython",
    "version": 3
   },
   "file_extension": ".py",
   "mimetype": "text/x-python",
   "name": "python",
   "nbconvert_exporter": "python",
   "pygments_lexer": "ipython3",
   "version": "3.11.6"
  }
 },
 "nbformat": 4,
 "nbformat_minor": 5
}
